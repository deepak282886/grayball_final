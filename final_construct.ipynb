{
 "cells": [
  {
   "cell_type": "code",
   "execution_count": 1,
   "id": "9a6e6ba7",
   "metadata": {},
   "outputs": [],
   "source": [
    "%load_ext autoreload\n",
    "%autoreload 2\n",
    "from final_response import get_final_response"
   ]
  },
  {
   "cell_type": "code",
   "execution_count": 2,
   "id": "1cb55257",
   "metadata": {},
   "outputs": [
    {
     "data": {
      "text/plain": [
       "('{\\n    \"param_1\": {\\n        \"name\": \"powerplay\",\\n        \"parameter_value\": \"yes\"\\n    },\\n    \"param_2\": {\\n        \"name\": \"detail_level\",\\n        \"parameter_value\": \"team_level\"\\n    },\\n    \"param_3\": {\\n        \"name\": \"teams_category\",\\n        \"parameter_value\": \"single\"\\n    },\\n    \"param_4\": {\\n        \"name\": \"teams_primary\",\\n        \"parameter_value\": \"india\"\\n    }\\n}',\n",
       " {'powerplay': 'yes',\n",
       "  'detail_level': 'team_level',\n",
       "  'teams_category': 'single',\n",
       "  'teams_primary': 'india'},\n",
       " \"SELECT * FROM ball_by_ball_data b LEFT JOIN match_info m ON b.match_id = m.match_id WHERE 1=1 AND (m.team1 = 'india' OR m.team2 = 'india')\",\n",
       " '')"
      ]
     },
     "execution_count": 2,
     "metadata": {},
     "output_type": "execute_result"
    }
   ],
   "source": [
    "input_q = \"how many runs india scored in the powerplay?\"\n",
    "get_final_response(input_q)"
   ]
  },
  {
   "cell_type": "code",
   "execution_count": null,
   "id": "3a9358dc",
   "metadata": {},
   "outputs": [],
   "source": []
  }
 ],
 "metadata": {
  "kernelspec": {
   "display_name": "Python 3 (ipykernel)",
   "language": "python",
   "name": "python3"
  },
  "language_info": {
   "codemirror_mode": {
    "name": "ipython",
    "version": 3
   },
   "file_extension": ".py",
   "mimetype": "text/x-python",
   "name": "python",
   "nbconvert_exporter": "python",
   "pygments_lexer": "ipython3",
   "version": "3.11.5"
  }
 },
 "nbformat": 4,
 "nbformat_minor": 5
}
